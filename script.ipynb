{
 "cells": [
  {
   "cell_type": "code",
   "execution_count": 1,
   "id": "bffcc58c-9286-4c8e-8cc3-301a89806ac1",
   "metadata": {},
   "outputs": [],
   "source": [
    "import logging\n",
    "import os\n",
    "import re\n",
    "from typing import Any, Container, Dict, Iterable, List, Optional, TextIO, Union, cast\n",
    "import unicodedata\n",
    "\n",
    "import pdfminer\n",
    "from pdfminer.pdfdocument import PDFDocument, PDFNoOutlines, PDFXRefFallback\n",
    "from pdfminer.pdfpage import PDFPage\n",
    "from pdfminer.pdfparser import PDFParser\n",
    "from pdfminer.pdftypes import PDFObjectNotFound, PDFValueError\n",
    "from pdfminer.pdftypes import PDFStream, PDFObjRef, resolve1, stream_value\n",
    "from pdfminer.psparser import PSKeyword, PSLiteral, LIT\n",
    "from pdfminer.utils import isnumber"
   ]
  },
  {
   "cell_type": "code",
   "execution_count": 2,
   "id": "900abb4f-f977-486f-8a2a-4e0906d53d35",
   "metadata": {},
   "outputs": [],
   "source": [
    "logging.basicConfig()\n",
    "logger = logging.getLogger(__name__)\n",
    "\n",
    "ESC_PAT = re.compile(r'[\\000-\\037&<>()\"\\042\\047\\134\\177-\\377]')\n",
    "def escape(s: Union[str, bytes]) -> str:\n",
    "    if isinstance(s, bytes):\n",
    "        us = str(s, \"latin-1\")\n",
    "    else:\n",
    "        us = s\n",
    "    return ESC_PAT.sub(lambda m: \"&#%d;\" % ord(m.group(0)), us)\n",
    "\n",
    "def bintostr(b:bytes):\n",
    "    if b is None:\n",
    "        return \"\"\n",
    "    return unicodedata.normalize('NFKD', b.decode(\"latin-1\")).encode('ASCII', 'ignore').decode(\"ASCII\")"
   ]
  },
  {
   "cell_type": "code",
   "execution_count": 3,
   "id": "69f1dd88-6afc-4e75-8572-ace3ca3e366a",
   "metadata": {},
   "outputs": [],
   "source": [
    "def processPdfAndSaveTxt(pdfname: str) -> None:\n",
    "    retrievedData=processPdf(pdfname)\n",
    "    ## Save map to file\n",
    "    outfilename=pdfname + \".txt\"\n",
    "    outfp=open(outfilename , \"w\")\n",
    "    for k,v in sorted(retrievedData.items()):\n",
    "        outfp.write(\"%s=%s\\n\" % (k, v.strip().replace(\"\\r\\n\", \".\")))\n",
    "    outfp.close()"
   ]
  },
  {
   "cell_type": "code",
   "execution_count": 4,
   "id": "2ead5685-e05f-48e6-8c0a-cfe9562d24fd",
   "metadata": {},
   "outputs": [],
   "source": [
    "def processPdf(\n",
    "    fname: str\n",
    ") -> dict:\n",
    "    retrievedData = {}\n",
    "    fp = open(fname, \"rb\")\n",
    "    parser = PDFParser(fp)\n",
    "    doc = PDFDocument(parser)\n",
    "    searchInAllObjects(retrievedData, doc)\n",
    "    fp.close()\n",
    "    return retrievedData"
   ]
  },
  {
   "cell_type": "code",
   "execution_count": 5,
   "id": "71e73fb5-7c51-4643-9aed-c8cfad5ff8f6",
   "metadata": {},
   "outputs": [],
   "source": [
    "def searchInAllObjects(\n",
    "    retrievedData: dict,\n",
    "    doc: PDFDocument\n",
    ") -> None:\n",
    "    visited = set()\n",
    "    for xref in doc.xrefs:\n",
    "        for objid in xref.get_objids():\n",
    "            if objid in visited:\n",
    "                continue\n",
    "            visited.add(objid)\n",
    "            try:\n",
    "                obj = doc.getobj(objid)\n",
    "                if obj is None:\n",
    "                    continue\n",
    "                searchInObject(retrievedData, obj, objid=objid)\n",
    "            except PDFObjectNotFound as e:\n",
    "                print(\"not found: %r\" % e)\n",
    "    return"
   ]
  },
  {
   "cell_type": "code",
   "execution_count": 6,
   "id": "544d9216-7b5a-49e2-b554-70d97f53ecc1",
   "metadata": {
    "scrolled": true
   },
   "outputs": [
    {
     "name": "stdout",
     "output_type": "stream",
     "text": [
      "Processing .\\Test - Copy.pdf\n",
      "Processing .\\Test.pdf\n",
      "Done\n"
     ]
    }
   ],
   "source": [
    "def searchInObject(\n",
    "    retrievedData: dict,\n",
    "    obj: object, \n",
    "    objid: str = None\n",
    ") -> None:\n",
    "    understood=False\n",
    "    if isinstance(obj, dict) and 'Type' in obj.keys():\n",
    "        type=obj[\"Type\"]\n",
    "        if isinstance(type, PSLiteral):\n",
    "            type=type.name\n",
    "        #\n",
    "        if type==\"Annot\":\n",
    "            if 'T' in obj.keys() and 'V' in obj.keys():\n",
    "                valueT=bintostr(obj[\"T\"])\n",
    "                valueV=bintostr(obj[\"V\"])\n",
    "                #\n",
    "                if 'Opt' in obj.keys(): ##Combo\n",
    "                    value=\"\"\n",
    "                    if isinstance(obj[\"Opt\"], list):\n",
    "                        for nestedList in obj[\"Opt\"]:\n",
    "                            if isinstance(nestedList, list) and len(nestedList)==2:\n",
    "                                try:\n",
    "                                    nestedListKey=bintostr(nestedList[0])\n",
    "                                except:\n",
    "                                    out.write('!! Error decoding nestedlist key %s \\n' % nestedList[0])\n",
    "                                try:\n",
    "                                    nestedListValue=bintostr(nestedList[1])\n",
    "                                except:\n",
    "                                    out.write('!! Error decoding nestedlist value %s \\n' % nestedList[1])\n",
    "                                if nestedListKey==valueV:\n",
    "                                    value=nestedListValue\n",
    "                    understood=True\n",
    "                    retrievedData[valueT]=value\n",
    "                else: ##Campo de texto\n",
    "                    understood=True\n",
    "                    retrievedData[valueT]=valueV\n",
    "        elif type in [\"Pages\", \"Page\", \"Font\", \"FontDescriptor\", \"Encoding\", \"Outlines\", \"Catalog\"]:\n",
    "            understood=True\n",
    "        else: ## type desconocido\n",
    "            understood=True\n",
    "            print(\"<unknown type=\\\"%s\\\"/>\\n\" % type)\n",
    "    \n",
    "if __name__ == \"__main__\":\n",
    "    for file in os.listdir(\".\"):\n",
    "        if file.endswith(\".pdf\"):\n",
    "            fileName=os.path.join(\".\", file)\n",
    "            print(\"Processing %s\" % fileName)\n",
    "            processPdfAndSaveTxt(fileName)\n",
    "    print(\"Done\")\n"
   ]
  },
  {
   "cell_type": "code",
   "execution_count": null,
   "id": "eb14e912-b9d7-4dbf-9182-aa7151a64008",
   "metadata": {},
   "outputs": [],
   "source": []
  }
 ],
 "metadata": {
  "kernelspec": {
   "display_name": "Python 3 (ipykernel)",
   "language": "python",
   "name": "python3"
  },
  "language_info": {
   "codemirror_mode": {
    "name": "ipython",
    "version": 3
   },
   "file_extension": ".py",
   "mimetype": "text/x-python",
   "name": "python",
   "nbconvert_exporter": "python",
   "pygments_lexer": "ipython3",
   "version": "3.12.0"
  }
 },
 "nbformat": 4,
 "nbformat_minor": 5
}
